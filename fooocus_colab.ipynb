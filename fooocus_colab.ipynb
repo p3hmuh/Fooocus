{
  "nbformat": 4,
  "nbformat_minor": 0,
  "metadata": {
    "colab": {
      "provenance": [],
      "authorship_tag": "ABX9TyNHgzjfTOMFoBAv+4cUuEy3",
      "include_colab_link": true
    },
    "kernelspec": {
      "name": "python3",
      "display_name": "Python 3"
    },
    "language_info": {
      "name": "python"
    }
  },
  "cells": [
    {
      "cell_type": "markdown",
      "metadata": {
        "id": "view-in-github",
        "colab_type": "text"
      },
      "source": [
        "<a href=\"https://colab.research.google.com/github/p3hmuh/Fooocus/blob/main/fooocus_colab.ipynb\" target=\"_parent\"><img src=\"https://colab.research.google.com/assets/colab-badge.svg\" alt=\"Open In Colab\"/></a>"
      ]
    },
    {
      "cell_type": "code",
      "execution_count": null,
      "metadata": {
        "id": "S-fYXWh1MaDX"
      },
      "outputs": [],
      "source": [
        "# @title 🚀 Setup Fooocus\n",
        "# @markdown Click \"Run\" to start setup\n",
        "\n",
        "print(\"Setting up Fooocus...\")\n",
        "\n",
        "!nvidia-smi\n",
        "\n",
        "# Clone Fooocus repository\n",
        "!git clone https://github.com/p3hmuh/Fooocus\n",
        "%cd Fooocus\n",
        "\n",
        "# Install dependencies\n",
        "!pip install -q torch==2.0.1 torchvision==0.15.2 torchaudio==2.0.2\n",
        "!pip install -q xformers==0.0.20 triton==2.0.0\n",
        "!pip install -r requirements.txt\n",
        "\n",
        "# Download model weights\n",
        "!mkdir -p models/checkpoints\n",
        "!wget -q https://huggingface.co/stabilityai/stable-diffusion-xl-base-1.0/resolve/main/sd_xl_base_1.0.safetensors -O models/checkpoints/sd_xl_base_1.0.safetensors\n",
        "!wget -q https://huggingface.co/stabilityai/stable-diffusion-xl-refiner-1.0/resolve/main/sd_xl_refiner_1.0.safetensors -O models/checkpoints/sd_xl_refiner_1.0.safetensors\n",
        "\n",
        "# @title 🎨 Launch Fooocus\n",
        "# @markdown Click \"Run\" to start Fooocus\n",
        "\n",
        "print(\"Starting Fooocus...\")\n",
        "\n",
        "!python launch.py --share"
      ]
    }
  ]
}